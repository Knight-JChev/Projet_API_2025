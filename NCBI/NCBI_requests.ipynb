{
 "cells": [
  {
   "cell_type": "markdown",
   "metadata": {},
   "source": [
    "## On essaye de faire un truc qui marche ajd"
   ]
  },
  {
   "cell_type": "code",
   "execution_count": 33,
   "metadata": {},
   "outputs": [
    {
     "name": "stdout",
     "output_type": "stream",
     "text": [
      "homo_sapiens\n",
      "{'species': 'homo_sapiens', 'gene_symbol': 'RAD51'}\n",
      "arabidopsis_thaliana\n",
      "{'species': 'arabidopsis_thaliana', 'gene_symbol': 'PHYB'}\n",
      "saccharomyces_cerevisiae\n",
      "{'species': 'saccharomyces_cerevisiae', 'gene_symbol': 'SFA1'}\n",
      "Leishmania_major\n",
      "{'species': 'Leishmania_major', 'gene_symbol': 'ACP'}\n",
      "escherichia_coli\n",
      "{'species': 'escherichia_coli', 'gene_symbol': 'HYBE'}\n",
      "mus_musculus\n",
      "{'species': 'mus_musculus', 'gene_symbol': 'DMD'}\n",
      "Drosophila_melanogaster\n",
      "{'species': 'Drosophila_melanogaster', 'gene_symbol': 'DPP'}\n"
     ]
    }
   ],
   "source": [
    "with open(\"GeneSymbols_45.txt\", \"r\") as infos:\n",
    "    for line in infos:\n",
    "        symbol = line.split(\",\")[0]\n",
    "        # Récupère et joint le genre et l'espèce par un \"_\". Utile pour les bactéries.\n",
    "        current_species = \"_\".join(line[:-1].split(\",\")[1].split(\"_\")[0:2])\n",
    "        species_info= {\"species\" : current_species, \"gene_symbol\" : symbol}\n",
    "\n",
    "        \n",
    "        species_info = Info(species_info)\n",
    "        print(species_info)  \n",
    "\n",
    " "
   ]
  },
  {
   "cell_type": "markdown",
   "metadata": {},
   "source": [
    "## Aggrégateur"
   ]
  },
  {
   "cell_type": "code",
   "execution_count": 6,
   "metadata": {},
   "outputs": [],
   "source": [
    "def Info (species_info):\n",
    "    \"\"\"\n",
    "    Aggrège les différentes fonctions utilisées pour aller chercher les informations \n",
    "    \"\"\"\n",
    "    species_info = Gene(species_info)\n",
    "    species_info = ProTranscript(species_info)\n",
    "    return(species_info)\n",
    "    "
   ]
  },
  {
   "cell_type": "markdown",
   "metadata": {},
   "source": [
    "## Requête"
   ]
  },
  {
   "cell_type": "code",
   "execution_count": 4,
   "metadata": {},
   "outputs": [
    {
     "data": {
      "text/plain": [
       "'tmp_protein.gbk'"
      ]
     },
     "execution_count": 4,
     "metadata": {},
     "output_type": "execute_result"
    }
   ],
   "source": [
    "from Bio import Entrez, SeqIO\n",
    "\n",
    "def Request (species_info, db, requete, retention) :\n",
    "\n",
    "    Entrez.email = \"Chevreau.julien21@gmail.com@univ-rouen.fr\"\n",
    "\n",
    "    # Va chercher les IDs dans la base de donnée demandée\n",
    "    handle = Entrez.esearch(db=db, term=requete, retmax=retention)\n",
    "    records = Entrez.read(handle)\n",
    "    identifiers = records[\"IdList\"]\n",
    "\n",
    "    # Cherche les données à partir des IDs. Résultat en format GenBank\n",
    "    handle = Entrez.efetch(db=db, id=identifiers, retmax=\"100\",\n",
    "                            rettype=\"gbk\", retmode=\"text\")\n",
    "    text = handle.read()\n",
    "\n",
    "    # Construit un fichier temporaire pour être lu ensuite\n",
    "    filename = \"tmp_%s.gbk\" % (db)\n",
    "    with open(filename,\"w\") as gbk:\n",
    "        gbk.write(text)\n",
    "\n",
    "    return(filename)\n",
    "\n",
    "species_info = {'species': 'escherichia_coli', 'gene_symbol': 'HYBE'}\n",
    "requete = \"%s[Orgn] AND %s[gene Name]\" % (species_info[\"species\"], species_info[\"gene_symbol\"])\n",
    "\n",
    "Request(species_info, \"protein\",requete , 5 )\n"
   ]
  },
  {
   "cell_type": "markdown",
   "metadata": {},
   "source": [
    "## Prot et transcrits traduits \n",
    "Aller chercher dans la base **prot** pour avoir les différents IDs des prots et transcrits associés"
   ]
  },
  {
   "cell_type": "code",
   "execution_count": 24,
   "metadata": {},
   "outputs": [
    {
     "data": {
      "text/plain": [
       "{'species': 'homo_sapiens',\n",
       " 'gene_symbol': 'RAD51',\n",
       " 'transcript_id': ['NM_001164270.2',\n",
       "  'NM_001164269.2',\n",
       "  'NM_133487.4',\n",
       "  'NM_002875.5',\n",
       "  'XM_054378571.1',\n",
       "  'XM_054378570.1',\n",
       "  'XM_054378569.1',\n",
       "  'XM_054378568.1',\n",
       "  'XM_054378567.1',\n",
       "  'XM_054378566.1',\n",
       "  'XM_047432925.1',\n",
       "  'XM_011521861.3',\n",
       "  'XM_011521857.3',\n",
       "  'XM_011521860.3',\n",
       "  'XM_011521859.3',\n",
       "  'XM_011521858.3'],\n",
       " 'prot_id': ['NP_001157742.1',\n",
       "  'NP_001157741.1',\n",
       "  'NP_597994.3',\n",
       "  'NP_002866.2',\n",
       "  'XP_054234546.1',\n",
       "  'XP_054234545.1',\n",
       "  'XP_054234544.1',\n",
       "  'XP_054234543.1',\n",
       "  'XP_054234542.1',\n",
       "  'XP_054234541.1',\n",
       "  'XP_047288881.1',\n",
       "  'XP_011520163.2',\n",
       "  'XP_011520159.2',\n",
       "  'XP_011520162.1',\n",
       "  'XP_011520161.1',\n",
       "  'XP_011520160.1']}"
      ]
     },
     "execution_count": 24,
     "metadata": {},
     "output_type": "execute_result"
    }
   ],
   "source": [
    "species_info = {'species': 'homo_sapiens', 'gene_symbol': 'RAD51'}\n",
    "\n",
    "def ProTranscript (species_info):\n",
    "    \"\"\"\n",
    "    Récupère les informations relatives aux protéines et transcrits traduits\n",
    "    \"\"\"\n",
    "\n",
    "    # Requête qui récupère les entrées officielles RefSeq\n",
    "    requete = \"%s[Orgn] AND %s[gene Name] AND srcdb refseq [properties]\" % (species_info[\"species\"], species_info[\"gene_symbol\"])\n",
    "\n",
    "    # Passage de la requête à la fonction qui va chercher les informations\n",
    "    prot_file = Request(species_info, \"protein\",requete ,60)\n",
    "\n",
    "    # Parcours du fichier temporaire créé pour en extraire les informations\n",
    "    for seq_record in SeqIO.parse(prot_file, \"genbank\"):\n",
    "        try : # Si db_source n'existe pas pour le record, passe au suivant\n",
    "            db_source = seq_record.annotations[\"db_source\"].split(\" \")\n",
    "\n",
    "            if db_source[0] == \"REFSEQ:\" :\n",
    "                if \"transcript_id\" not in species_info :\n",
    "                    species_info[\"transcript_id\"] = [db_source[-1]]\n",
    "                    species_info[\"prot_id\"] = [seq_record.id]\n",
    "                else :\n",
    "                    species_info[\"transcript_id\"].append(db_source[-1])\n",
    "                    species_info[\"prot_id\"].append(seq_record.id)\n",
    "        except :\n",
    "            continue\n",
    "\n",
    "    # Indique si aucun transcrit/protéine n'est trouvé            \n",
    "    if \"transcript_id\" not in species_info :\n",
    "                species_info[\"transcript_id\"] = [\"No data found\"]\n",
    "                species_info[\"prot_id\"] = [\"No data found\"]\n",
    "    return(species_info)\n",
    "\n",
    "ProTranscript(species_info)"
   ]
  },
  {
   "cell_type": "markdown",
   "metadata": {},
   "source": [
    "## Transcrits non traduits\n",
    "Aller dans **nucleotide** pour les transcrits non traduits"
   ]
  },
  {
   "cell_type": "code",
   "execution_count": null,
   "metadata": {},
   "outputs": [],
   "source": [
    "species_info = {'species': 'homo_sapiens', 'gene_symbol': 'RAD51', 'transcript_id': ['NM_001164270.2', 'NM_001164269.2', 'NM_133487.4', 'NM_002875.5', 'XM_054378571.1', 'XM_054378570.1', 'XM_054378569.1', 'XM_054378568.1', 'XM_054378567.1', 'XM_054378566.1', 'XM_047432925.1', 'XM_011521861.3', 'XM_011521857.3', 'XM_011521860.3', 'XM_011521859.3', 'XM_011521858.3'], 'prot_id': ['NP_001157742.1', 'NP_001157741.1', 'NP_597994.3', 'NP_002866.2', 'XP_054234546.1', 'XP_054234545.1', 'XP_054234544.1', 'XP_054234543.1', 'XP_054234542.1', 'XP_054234541.1', 'XP_047288881.1', 'XP_011520163.2', 'XP_011520159.2', 'XP_011520162.1', 'XP_011520161.1', 'XP_011520160.1']}\n",
    "\n",
    "def NCrna(species_info) :\n",
    "\n",
    "    transcript_file = Request(species_info,\"nucleotide\",50)\n",
    "\n",
    "    for seq_record in SeqIO.parse(transcript_file, \"genbank\"):\n",
    "        print(seq_record.annotations[\"molecule_type\"])\n",
    "        if seq_record.annotations[\"molecule_type\"] == \"mrna\" :\n",
    "            if not seq_record.id in species_info['transcript_id']:\n",
    "                species_info['transcript_id'].append(seq_record.id + \" (Not translated)\")\n",
    "    \n",
    "    return(species_info)\n",
    "\n",
    "NCrna(species_info)"
   ]
  },
  {
   "cell_type": "markdown",
   "metadata": {},
   "source": [
    "## Gène\n",
    "Aller dans **gene** pour l'official full name et le gene access number"
   ]
  },
  {
   "cell_type": "code",
   "execution_count": 15,
   "metadata": {},
   "outputs": [
    {
     "data": {
      "text/plain": [
       "{'species': 'escherichia_coli',\n",
       " 'gene_symbol': 'HYBE',\n",
       " 'official_name': 'hydrogenase 2-specific chaperone',\n",
       " 'gene_id': '947483'}"
      ]
     },
     "execution_count": 15,
     "metadata": {},
     "output_type": "execute_result"
    }
   ],
   "source": [
    "import re\n",
    "species_info = {'species': 'escherichia_coli', 'gene_symbol': 'HYBE'}\n",
    "def Gene (species_info) :\n",
    "\n",
    "    # Requête pour la base de donnée\n",
    "    requete = \"%s[Orgn] AND %s[gene Name] AND Refseq [Keyword]\" % (species_info[\"species\"], species_info[\"gene_symbol\"])\n",
    "    gene_file = Request(species_info,\"gene\", requete, 1)\n",
    "\n",
    "    # Ouverture et lecture du fichier temporaire contenant les informations du gène\n",
    "    with open(gene_file,\"r\") as file:\n",
    "        content = \"\".join(file.readlines())\n",
    "\n",
    "        # Expressions régulières pour trouver ID et nom officiel\n",
    "        pattern_id = re.search(r\"ID:\\s(\\d*)\",content)\n",
    "        pattern_official = re.search(r\"Name:\\s(.*)\\s\\[\",content)\n",
    "        pattern_official_alt = re.search(r\"(.*)\\s\\[.*\\]\",content)\n",
    "\n",
    "        # Population du dictionnaire en cas de match\n",
    "        if pattern_official != None :\n",
    "            species_info[\"official_name\"] = pattern_official.group(1)\n",
    "        elif pattern_official_alt != None : # Pattern alternatif dans le cas où le premier n'est pas trouvé\n",
    "            species_info[\"official_name\"] = pattern_official_alt.group(1)\n",
    "\n",
    "        if pattern_id != None :\n",
    "            species_info[\"gene_id\"] = pattern_id.group(1)\n",
    "    return(species_info)\n",
    "\n",
    "Gene(species_info)\n"
   ]
  },
  {
   "cell_type": "markdown",
   "metadata": {},
   "source": [
    "## Section Test"
   ]
  },
  {
   "cell_type": "code",
   "execution_count": null,
   "metadata": {},
   "outputs": [],
   "source": [
    "\n",
    "        # # Lit toute les lignes et ne garde que la première entrée\n",
    "        # content = \"\".join(file.readlines())\n",
    "        # entry_one = re.search(r\"1.(.*)\\n\\n\", content, flags=re.S).group(1)\n",
    "\n",
    "# ((Hybe[Gene Name]) AND Escherichia coli[Organism]) AND Refseq[Keyword]\n",
    "\n",
    "\n",
    "import re\n",
    "with open (\"tmp_gene.gbk\", \"r\") as file :\n",
    "    contenu = \"\".join(file.readlines())\n",
    "    entry_one = re.search(r\"\\n(.*)\\n\\n2\\.\", contenu, flags=re.S)\n",
    "    \n",
    "    print (contenu)"
   ]
  },
  {
   "cell_type": "markdown",
   "metadata": {},
   "source": [
    "## Conversion gbk en fasta"
   ]
  },
  {
   "cell_type": "code",
   "execution_count": null,
   "metadata": {},
   "outputs": [],
   "source": [
    "from Bio import SeqIO\n",
    "SeqIO.convert(\"all_from_eu.gbk\",'genbank',\"all_from_eu.fasta\",\"fasta\")"
   ]
  },
  {
   "cell_type": "code",
   "execution_count": null,
   "metadata": {},
   "outputs": [],
   "source": [
    "from Bio import SeqIO\n",
    "gb_file = \"f1.gbk\"\n",
    "features = {}\n",
    "genes = {}\n",
    "for seq_record in SeqIO.parse(gb_file, \"genbank\"):\n",
    "    for feat in seq_record.features :\n",
    "        if feat.type in features :\n",
    "            features[feat.type]+=1\n",
    "        else : \n",
    "            features[feat.type] = 1\n",
    "        if \"gene\" in feat.qualifiers:\n",
    "            for gene in feat.qualifiers[\"gene\"]:\n",
    "                genes[gene] = 1\n",
    "                \n",
    "print(features)\n",
    "print(genes)"
   ]
  }
 ],
 "metadata": {
  "kernelspec": {
   "display_name": "Python 3",
   "language": "python",
   "name": "python3"
  },
  "language_info": {
   "codemirror_mode": {
    "name": "ipython",
    "version": 3
   },
   "file_extension": ".py",
   "mimetype": "text/x-python",
   "name": "python",
   "nbconvert_exporter": "python",
   "pygments_lexer": "ipython3",
   "version": "3.12.8"
  }
 },
 "nbformat": 4,
 "nbformat_minor": 2
}
