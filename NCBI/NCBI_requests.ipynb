{
 "cells": [
  {
   "cell_type": "markdown",
   "metadata": {},
   "source": [
    "## On essaye de faire un truc qui marche ajd"
   ]
  },
  {
   "cell_type": "code",
   "execution_count": 13,
   "metadata": {},
   "outputs": [
    {
     "name": "stdout",
     "output_type": "stream",
     "text": [
      "['548663', '256017145', '256017143', '256017141', '19924133', '2462545405', '2462545403', '2462545401', '2462545399', '2462545397', '2462545395', '2217302260', '2217302258', '2217302253', '767984894', '767984892', '767984890', '47680391', '119612841', '119612840', '119612839', '119612838', '119612837', '12655203', '27368250', '49168602', '285977']\n",
      "Name NM_001164269, 2335bp, annotation : {'molecule_type': 'mRNA', 'topology': 'linear', 'data_file_division': 'PRI', 'date': '17-NOV-2024', 'accessions': ['NM_001164269'], 'sequence_version': 2, 'keywords': ['RefSeq'], 'source': 'Homo sapiens (human)', 'organism': 'Homo sapiens', 'taxonomy': ['Eukaryota', 'Metazoa', 'Chordata', 'Craniata', 'Vertebrata', 'Euteleostomi', 'Mammalia', 'Eutheria', 'Euarchontoglires', 'Primates', 'Haplorrhini', 'Catarrhini', 'Hominidae', 'Homo'], 'references': [Reference(title='Mechanism of BCDX2-mediated RAD51 nucleation on short ssDNA stretches and fork DNA', ...), Reference(title='Hyper-recombination in ribosomal DNA is driven by long-range resection-independent RAD51 accumulation', ...), Reference(title='Contribution of Radiation Sensitive Protein 51 Genotypes to Pterygium Risk in a Taiwanese Population', ...), Reference(title='RAD51 protects abasic sites to prevent replication fork breakage', ...), Reference(title='Purification and characterization of the human Rad51 protein, an analogue of E. coli RecA', ...), Reference(title='Chromosome mapping of the human (RECA) and mouse (Reca) homologs of the yeast RAD51 and Escherichia coli recA genes to human (15q15.1) and mouse (2F1) chromosomes by direct R-banding fluorescence in situ hybridization', ...), Reference(title='Cloning of human, mouse and fission yeast recombination genes homologous to RAD51 and recA', ...), Reference(title='Cloning and sequence of the human RecA-like gene cDNA', ...), Reference(title='Congenital Mirror Movements', ...), Reference(title='Fanconi Anemia', ...)], 'comment': \"REVIEWED REFSEQ: This record has been curated by NCBI staff. The\\nreference sequence was derived from AC022405.5, AK131299.1 and\\nAC012476.8.\\nOn May 31, 2019 this sequence version replaced NM_001164269.1.\\nSummary: The protein encoded by this gene is a member of the RAD51\\nprotein family. RAD51 family members are highly similar to\\nbacterial RecA and Saccharomyces cerevisiae Rad51, and are known to\\nbe involved in the homologous recombination and repair of DNA. This\\nprotein can interact with the ssDNA-binding protein RPA and RAD52,\\nand it is thought to play roles in homologous pairing and strand\\ntransfer of DNA. This protein is also found to interact with BRCA1\\nand BRCA2, which may be important for the cellular response to DNA\\ndamage. BRCA2 is shown to regulate both the intracellular\\nlocalization and DNA-binding ability of this protein. Loss of these\\ncontrols following BRCA2 inactivation may be a key event leading to\\ngenomic instability and tumorigenesis. Multiple transcript variants\\nencoding different isoforms have been found for this gene.\\n[provided by RefSeq, Aug 2009].\\nTranscript Variant: This variant (4) uses an alternate splice site\\nin the 5' UTR, compared to variant 2. Both variants 2 and 4 encode\\nthe same isoform.\\nSequence Note: This RefSeq record was created from transcript and\\ngenomic sequence data to make the sequence consistent with the\\nreference genome assembly. The genomic coordinates used for the\\ntranscript record were based on transcript alignments.\\nPublication Note:  This RefSeq record includes a subset of the\\npublications that are available for this gene. Please see the Gene\\nrecord to access additional publications.\\nCOMPLETENESS: complete on the 3' end.\", 'structured_comment': defaultdict(<class 'dict'>, {'Evidence-Data': {'Transcript exon combination': 'AK131299.1, SRR14372080.2323308.1 [ECO:0000332]', 'RNAseq introns': 'mixed sample support SAMEA1965299, SAMEA1966682 [ECO:0006172]'}})}\n",
      "Name NM_001164270, 2314bp, annotation : {'molecule_type': 'mRNA', 'topology': 'linear', 'data_file_division': 'PRI', 'date': '17-NOV-2024', 'accessions': ['NM_001164270'], 'sequence_version': 2, 'keywords': ['RefSeq'], 'source': 'Homo sapiens (human)', 'organism': 'Homo sapiens', 'taxonomy': ['Eukaryota', 'Metazoa', 'Chordata', 'Craniata', 'Vertebrata', 'Euteleostomi', 'Mammalia', 'Eutheria', 'Euarchontoglires', 'Primates', 'Haplorrhini', 'Catarrhini', 'Hominidae', 'Homo'], 'references': [Reference(title='Mechanism of BCDX2-mediated RAD51 nucleation on short ssDNA stretches and fork DNA', ...), Reference(title='Hyper-recombination in ribosomal DNA is driven by long-range resection-independent RAD51 accumulation', ...), Reference(title='Contribution of Radiation Sensitive Protein 51 Genotypes to Pterygium Risk in a Taiwanese Population', ...), Reference(title='RAD51 protects abasic sites to prevent replication fork breakage', ...), Reference(title='Purification and characterization of the human Rad51 protein, an analogue of E. coli RecA', ...), Reference(title='Chromosome mapping of the human (RECA) and mouse (Reca) homologs of the yeast RAD51 and Escherichia coli recA genes to human (15q15.1) and mouse (2F1) chromosomes by direct R-banding fluorescence in situ hybridization', ...), Reference(title='Cloning of human, mouse and fission yeast recombination genes homologous to RAD51 and recA', ...), Reference(title='Cloning and sequence of the human RecA-like gene cDNA', ...), Reference(title='Congenital Mirror Movements', ...), Reference(title='Fanconi Anemia', ...)], 'comment': \"REVIEWED REFSEQ: This record has been curated by NCBI staff. The\\nreference sequence was derived from EU362635.1, D14134.1 and\\nAC012476.8.\\nOn May 31, 2019 this sequence version replaced NM_001164270.1.\\nSummary: The protein encoded by this gene is a member of the RAD51\\nprotein family. RAD51 family members are highly similar to\\nbacterial RecA and Saccharomyces cerevisiae Rad51, and are known to\\nbe involved in the homologous recombination and repair of DNA. This\\nprotein can interact with the ssDNA-binding protein RPA and RAD52,\\nand it is thought to play roles in homologous pairing and strand\\ntransfer of DNA. This protein is also found to interact with BRCA1\\nand BRCA2, which may be important for the cellular response to DNA\\ndamage. BRCA2 is shown to regulate both the intracellular\\nlocalization and DNA-binding ability of this protein. Loss of these\\ncontrols following BRCA2 inactivation may be a key event leading to\\ngenomic instability and tumorigenesis. Multiple transcript variants\\nencoding different isoforms have been found for this gene.\\n[provided by RefSeq, Aug 2009].\\nTranscript Variant: This variant (3) uses an alternate exon in the\\n5' coding region and lacks an alternate exon in the 3' coding\\nregion resulting in a frameshift, compared to variant 2. The\\nresulting isoform (3) contains a distinct segment near the\\nN-terminus and has a shorter and distinct C-terminus, compared to\\nisoform 2.\\nSequence Note: This RefSeq record was created from transcript and\\ngenomic sequence data to make the sequence consistent with the\\nreference genome assembly. The genomic coordinates used for the\\ntranscript record were based on transcript alignments.\\nPublication Note:  This RefSeq record includes a subset of the\\npublications that are available for this gene. Please see the Gene\\nrecord to access additional publications.\\nCOMPLETENESS: complete on the 3' end.\", 'structured_comment': defaultdict(<class 'dict'>, {'Evidence-Data': {'Transcript exon combination': 'EU362635.1, SRR1163655.402568.1 [ECO:0000332]', 'RNAseq introns': 'single sample supports all introns SAMEA1965299, SAMEA1966682 [ECO:0000348]'}})}\n",
      "Name NM_133487, 2439bp, annotation : {'molecule_type': 'mRNA', 'topology': 'linear', 'data_file_division': 'PRI', 'date': '17-NOV-2024', 'accessions': ['NM_133487'], 'sequence_version': 4, 'keywords': ['RefSeq'], 'source': 'Homo sapiens (human)', 'organism': 'Homo sapiens', 'taxonomy': ['Eukaryota', 'Metazoa', 'Chordata', 'Craniata', 'Vertebrata', 'Euteleostomi', 'Mammalia', 'Eutheria', 'Euarchontoglires', 'Primates', 'Haplorrhini', 'Catarrhini', 'Hominidae', 'Homo'], 'references': [Reference(title='Mechanism of BCDX2-mediated RAD51 nucleation on short ssDNA stretches and fork DNA', ...), Reference(title='Hyper-recombination in ribosomal DNA is driven by long-range resection-independent RAD51 accumulation', ...), Reference(title='Contribution of Radiation Sensitive Protein 51 Genotypes to Pterygium Risk in a Taiwanese Population', ...), Reference(title='RAD51 protects abasic sites to prevent replication fork breakage', ...), Reference(title='Purification and characterization of the human Rad51 protein, an analogue of E. coli RecA', ...), Reference(title='Chromosome mapping of the human (RECA) and mouse (Reca) homologs of the yeast RAD51 and Escherichia coli recA genes to human (15q15.1) and mouse (2F1) chromosomes by direct R-banding fluorescence in situ hybridization', ...), Reference(title='Cloning of human, mouse and fission yeast recombination genes homologous to RAD51 and recA', ...), Reference(title='Cloning and sequence of the human RecA-like gene cDNA', ...), Reference(title='Congenital Mirror Movements', ...), Reference(title='Fanconi Anemia', ...)], 'comment': \"REVIEWED REFSEQ: This record has been curated by NCBI staff. The\\nreference sequence was derived from AK291969.1 and AC012476.8.\\nOn May 31, 2019 this sequence version replaced NM_133487.3.\\nSummary: The protein encoded by this gene is a member of the RAD51\\nprotein family. RAD51 family members are highly similar to\\nbacterial RecA and Saccharomyces cerevisiae Rad51, and are known to\\nbe involved in the homologous recombination and repair of DNA. This\\nprotein can interact with the ssDNA-binding protein RPA and RAD52,\\nand it is thought to play roles in homologous pairing and strand\\ntransfer of DNA. This protein is also found to interact with BRCA1\\nand BRCA2, which may be important for the cellular response to DNA\\ndamage. BRCA2 is shown to regulate both the intracellular\\nlocalization and DNA-binding ability of this protein. Loss of these\\ncontrols following BRCA2 inactivation may be a key event leading to\\ngenomic instability and tumorigenesis. Multiple transcript variants\\nencoding different isoforms have been found for this gene.\\n[provided by RefSeq, Aug 2009].\\nTranscript Variant: This variant (2) represents the longest\\ntranscript and encodes the longest isoform (2). Both variants 2 and\\n4 encode the same isoform.\\nSequence Note: This RefSeq record was created from transcript and\\ngenomic sequence data to make the sequence consistent with the\\nreference genome assembly. The genomic coordinates used for the\\ntranscript record were based on transcript alignments.\\nPublication Note:  This RefSeq record includes a subset of the\\npublications that are available for this gene. Please see the Gene\\nrecord to access additional publications.\\nCOMPLETENESS: complete on the 3' end.\", 'structured_comment': defaultdict(<class 'dict'>, {'Evidence-Data': {'Transcript exon combination': 'AK291969.1, SRR14038194.669930.1 [ECO:0000332]', 'RNAseq introns': 'mixed sample support SAMEA1965299, SAMEA1966682 [ECO:0006172]'}})}\n",
      "Name NM_002875, 2436bp, annotation : {'molecule_type': 'mRNA', 'topology': 'linear', 'data_file_division': 'PRI', 'date': '17-NOV-2024', 'accessions': ['NM_002875'], 'sequence_version': 5, 'keywords': ['RefSeq', 'MANE Select'], 'source': 'Homo sapiens (human)', 'organism': 'Homo sapiens', 'taxonomy': ['Eukaryota', 'Metazoa', 'Chordata', 'Craniata', 'Vertebrata', 'Euteleostomi', 'Mammalia', 'Eutheria', 'Euarchontoglires', 'Primates', 'Haplorrhini', 'Catarrhini', 'Hominidae', 'Homo'], 'references': [Reference(title='Mechanism of BCDX2-mediated RAD51 nucleation on short ssDNA stretches and fork DNA', ...), Reference(title='Hyper-recombination in ribosomal DNA is driven by long-range resection-independent RAD51 accumulation', ...), Reference(title='Contribution of Radiation Sensitive Protein 51 Genotypes to Pterygium Risk in a Taiwanese Population', ...), Reference(title='RAD51 protects abasic sites to prevent replication fork breakage', ...), Reference(title='Purification and characterization of the human Rad51 protein, an analogue of E. coli RecA', ...), Reference(title='Chromosome mapping of the human (RECA) and mouse (Reca) homologs of the yeast RAD51 and Escherichia coli recA genes to human (15q15.1) and mouse (2F1) chromosomes by direct R-banding fluorescence in situ hybridization', ...), Reference(title='Cloning of human, mouse and fission yeast recombination genes homologous to RAD51 and recA', ...), Reference(title='Cloning and sequence of the human RecA-like gene cDNA', ...), Reference(title='Congenital Mirror Movements', ...), Reference(title='Fanconi Anemia', ...)], 'comment': \"REVIEWED REFSEQ: This record has been curated by NCBI staff. The\\nreference sequence was derived from AK313503.1 and AC012476.8.\\nThis sequence is a reference standard in the RefSeqGene project.\\nOn May 17, 2019 this sequence version replaced NM_002875.4.\\nSummary: The protein encoded by this gene is a member of the RAD51\\nprotein family. RAD51 family members are highly similar to\\nbacterial RecA and Saccharomyces cerevisiae Rad51, and are known to\\nbe involved in the homologous recombination and repair of DNA. This\\nprotein can interact with the ssDNA-binding protein RPA and RAD52,\\nand it is thought to play roles in homologous pairing and strand\\ntransfer of DNA. This protein is also found to interact with BRCA1\\nand BRCA2, which may be important for the cellular response to DNA\\ndamage. BRCA2 is shown to regulate both the intracellular\\nlocalization and DNA-binding ability of this protein. Loss of these\\ncontrols following BRCA2 inactivation may be a key event leading to\\ngenomic instability and tumorigenesis. Multiple transcript variants\\nencoding different isoforms have been found for this gene.\\n[provided by RefSeq, Aug 2009].\\nTranscript Variant: This variant (1) uses an alternate exon in the\\n5' coding region, compared to variant 2. The resulting isoform (1)\\ncontains a distinct segment near the N-terminus, compared to\\nisoform 2.\\nSequence Note: This RefSeq record was created from transcript and\\ngenomic sequence data to make the sequence consistent with the\\nreference genome assembly. The genomic coordinates used for the\\ntranscript record were based on transcript alignments.\\nPublication Note:  This RefSeq record includes a subset of the\\npublications that are available for this gene. Please see the Gene\\nrecord to access additional publications.\\nCOMPLETENESS: complete on the 3' end.\", 'structured_comment': defaultdict(<class 'dict'>, {'Evidence-Data': {'Transcript exon combination': 'DRR138512.575350.1, AK313503.1 [ECO:0000332]', 'RNAseq introns': 'single sample supports all introns SAMEA1965299, SAMEA1966682 [ECO:0000348]'}, 'RefSeq-Attributes': {'MANE Ensembl match': 'ENST00000267868.8/ ENSP00000267868.3', 'RefSeq Select criteria': 'based on manual assertion, conservation, expression'}})}\n",
      "Name NG_012120, 43998bp, annotation : {'molecule_type': 'DNA', 'topology': 'linear', 'data_file_division': 'PRI', 'date': '04-OCT-2024', 'accessions': ['NG_012120'], 'sequence_version': 1, 'keywords': ['RefSeq', 'RefSeqGene'], 'source': 'Homo sapiens (human)', 'organism': 'Homo sapiens', 'taxonomy': ['Eukaryota', 'Metazoa', 'Chordata', 'Craniata', 'Vertebrata', 'Euteleostomi', 'Mammalia', 'Eutheria', 'Euarchontoglires', 'Primates', 'Haplorrhini', 'Catarrhini', 'Hominidae', 'Homo'], 'references': [Reference(title='Congenital Mirror Movements', ...), Reference(title='Fanconi Anemia', ...)], 'comment': 'REVIEWED REFSEQ: This record has been curated by NCBI staff in\\ncollaboration with Shruti Srivastava, Liz Starks. The reference\\nsequence was derived from AC022405.5 and AC012476.8.\\nThis sequence is a reference standard in the RefSeqGene project.\\nSummary: The protein encoded by this gene is a member of the RAD51\\nprotein family. RAD51 family members are highly similar to\\nbacterial RecA and Saccharomyces cerevisiae Rad51, and are known to\\nbe involved in the homologous recombination and repair of DNA. This\\nprotein can interact with the ssDNA-binding protein RPA and RAD52,\\nand it is thought to play roles in homologous pairing and strand\\ntransfer of DNA. This protein is also found to interact with BRCA1\\nand BRCA2, which may be important for the cellular response to DNA\\ndamage. BRCA2 is shown to regulate both the intracellular\\nlocalization and DNA-binding ability of this protein. Loss of these\\ncontrols following BRCA2 inactivation may be a key event leading to\\ngenomic instability and tumorigenesis. Multiple transcript variants\\nencoding different isoforms have been found for this gene.\\n[provided by RefSeq, Aug 2009].'}\n",
      "Name XM_054378571, 1909bp, annotation : {'molecule_type': 'mRNA', 'topology': 'linear', 'data_file_division': 'PRI', 'date': '26-AUG-2024', 'accessions': ['XM_054378571'], 'sequence_version': 1, 'keywords': ['RefSeq'], 'source': 'Homo sapiens (human)', 'organism': 'Homo sapiens', 'taxonomy': ['Eukaryota', 'Metazoa', 'Chordata', 'Craniata', 'Vertebrata', 'Euteleostomi', 'Mammalia', 'Eutheria', 'Euarchontoglires', 'Primates', 'Haplorrhini', 'Catarrhini', 'Hominidae', 'Homo'], 'comment': \"MODEL REFSEQ:  This record is predicted by automated computational\\nanalysis. This record is derived from a genomic sequence\\n(NC_060939) annotated using gene prediction method: Gnomon,\\nsupported by mRNA and EST evidence.\\nAlso see:\\n    Documentation of NCBI's Annotation Process\", 'structured_comment': defaultdict(<class 'dict'>, {'Genome-Annotation-Data': {'Annotation Provider': 'NCBI RefSeq', 'Annotation Status': 'Updated annotation', 'Annotation Name': 'GCF_009914755.1-RS_2024_08', 'Annotation Pipeline': 'NCBI eukaryotic genome annotation pipeline', 'Annotation Software Version': '10.3', 'Annotation Method': 'Best-placed RefSeq; Gnomon; RefSeqFE; cmsearch; tRNAscan-SE', 'Features Annotated': 'Gene; mRNA; CDS; ncRNA', 'Annotation Date': '08/23/2024'}})}\n",
      "Name XM_054378570, 2150bp, annotation : {'molecule_type': 'mRNA', 'topology': 'linear', 'data_file_division': 'PRI', 'date': '26-AUG-2024', 'accessions': ['XM_054378570'], 'sequence_version': 1, 'keywords': ['RefSeq'], 'source': 'Homo sapiens (human)', 'organism': 'Homo sapiens', 'taxonomy': ['Eukaryota', 'Metazoa', 'Chordata', 'Craniata', 'Vertebrata', 'Euteleostomi', 'Mammalia', 'Eutheria', 'Euarchontoglires', 'Primates', 'Haplorrhini', 'Catarrhini', 'Hominidae', 'Homo'], 'comment': \"MODEL REFSEQ:  This record is predicted by automated computational\\nanalysis. This record is derived from a genomic sequence\\n(NC_060939) annotated using gene prediction method: Gnomon,\\nsupported by EST evidence.\\nAlso see:\\n    Documentation of NCBI's Annotation Process\", 'structured_comment': defaultdict(<class 'dict'>, {'Genome-Annotation-Data': {'Annotation Provider': 'NCBI RefSeq', 'Annotation Status': 'Updated annotation', 'Annotation Name': 'GCF_009914755.1-RS_2024_08', 'Annotation Pipeline': 'NCBI eukaryotic genome annotation pipeline', 'Annotation Software Version': '10.3', 'Annotation Method': 'Best-placed RefSeq; Gnomon; RefSeqFE; cmsearch; tRNAscan-SE', 'Features Annotated': 'Gene; mRNA; CDS; ncRNA', 'Annotation Date': '08/23/2024'}})}\n",
      "Name XM_054378569, 2279bp, annotation : {'molecule_type': 'mRNA', 'topology': 'linear', 'data_file_division': 'PRI', 'date': '26-AUG-2024', 'accessions': ['XM_054378569'], 'sequence_version': 1, 'keywords': ['RefSeq'], 'source': 'Homo sapiens (human)', 'organism': 'Homo sapiens', 'taxonomy': ['Eukaryota', 'Metazoa', 'Chordata', 'Craniata', 'Vertebrata', 'Euteleostomi', 'Mammalia', 'Eutheria', 'Euarchontoglires', 'Primates', 'Haplorrhini', 'Catarrhini', 'Hominidae', 'Homo'], 'comment': \"MODEL REFSEQ:  This record is predicted by automated computational\\nanalysis. This record is derived from a genomic sequence\\n(NC_060939) annotated using gene prediction method: Gnomon,\\nsupported by mRNA and EST evidence.\\nAlso see:\\n    Documentation of NCBI's Annotation Process\", 'structured_comment': defaultdict(<class 'dict'>, {'Genome-Annotation-Data': {'Annotation Provider': 'NCBI RefSeq', 'Annotation Status': 'Updated annotation', 'Annotation Name': 'GCF_009914755.1-RS_2024_08', 'Annotation Pipeline': 'NCBI eukaryotic genome annotation pipeline', 'Annotation Software Version': '10.3', 'Annotation Method': 'Best-placed RefSeq; Gnomon; RefSeqFE; cmsearch; tRNAscan-SE', 'Features Annotated': 'Gene; mRNA; CDS; ncRNA', 'Annotation Date': '08/23/2024'}})}\n",
      "Name XM_054378568, 2416bp, annotation : {'molecule_type': 'mRNA', 'topology': 'linear', 'data_file_division': 'PRI', 'date': '26-AUG-2024', 'accessions': ['XM_054378568'], 'sequence_version': 1, 'keywords': ['RefSeq'], 'source': 'Homo sapiens (human)', 'organism': 'Homo sapiens', 'taxonomy': ['Eukaryota', 'Metazoa', 'Chordata', 'Craniata', 'Vertebrata', 'Euteleostomi', 'Mammalia', 'Eutheria', 'Euarchontoglires', 'Primates', 'Haplorrhini', 'Catarrhini', 'Hominidae', 'Homo'], 'comment': \"MODEL REFSEQ:  This record is predicted by automated computational\\nanalysis. This record is derived from a genomic sequence\\n(NC_060939) annotated using gene prediction method: Gnomon,\\nsupported by mRNA and EST evidence.\\nAlso see:\\n    Documentation of NCBI's Annotation Process\", 'structured_comment': defaultdict(<class 'dict'>, {'Genome-Annotation-Data': {'Annotation Provider': 'NCBI RefSeq', 'Annotation Status': 'Updated annotation', 'Annotation Name': 'GCF_009914755.1-RS_2024_08', 'Annotation Pipeline': 'NCBI eukaryotic genome annotation pipeline', 'Annotation Software Version': '10.3', 'Annotation Method': 'Best-placed RefSeq; Gnomon; RefSeqFE; cmsearch; tRNAscan-SE', 'Features Annotated': 'Gene; mRNA; CDS; ncRNA', 'Annotation Date': '08/23/2024'}})}\n",
      "Name XM_054378567, 2401bp, annotation : {'molecule_type': 'mRNA', 'topology': 'linear', 'data_file_division': 'PRI', 'date': '26-AUG-2024', 'accessions': ['XM_054378567'], 'sequence_version': 1, 'keywords': ['RefSeq'], 'source': 'Homo sapiens (human)', 'organism': 'Homo sapiens', 'taxonomy': ['Eukaryota', 'Metazoa', 'Chordata', 'Craniata', 'Vertebrata', 'Euteleostomi', 'Mammalia', 'Eutheria', 'Euarchontoglires', 'Primates', 'Haplorrhini', 'Catarrhini', 'Hominidae', 'Homo'], 'comment': \"MODEL REFSEQ:  This record is predicted by automated computational\\nanalysis. This record is derived from a genomic sequence\\n(NC_060939) annotated using gene prediction method: Gnomon,\\nsupported by mRNA and EST evidence.\\nAlso see:\\n    Documentation of NCBI's Annotation Process\", 'structured_comment': defaultdict(<class 'dict'>, {'Genome-Annotation-Data': {'Annotation Provider': 'NCBI RefSeq', 'Annotation Status': 'Updated annotation', 'Annotation Name': 'GCF_009914755.1-RS_2024_08', 'Annotation Pipeline': 'NCBI eukaryotic genome annotation pipeline', 'Annotation Software Version': '10.3', 'Annotation Method': 'Best-placed RefSeq; Gnomon; RefSeqFE; cmsearch; tRNAscan-SE', 'Features Annotated': 'Gene; mRNA; CDS; ncRNA', 'Annotation Date': '08/23/2024'}})}\n",
      "Name XM_054378566, 2272bp, annotation : {'molecule_type': 'mRNA', 'topology': 'linear', 'data_file_division': 'PRI', 'date': '26-AUG-2024', 'accessions': ['XM_054378566'], 'sequence_version': 1, 'keywords': ['RefSeq'], 'source': 'Homo sapiens (human)', 'organism': 'Homo sapiens', 'taxonomy': ['Eukaryota', 'Metazoa', 'Chordata', 'Craniata', 'Vertebrata', 'Euteleostomi', 'Mammalia', 'Eutheria', 'Euarchontoglires', 'Primates', 'Haplorrhini', 'Catarrhini', 'Hominidae', 'Homo'], 'comment': \"MODEL REFSEQ:  This record is predicted by automated computational\\nanalysis. This record is derived from a genomic sequence\\n(NC_060939) annotated using gene prediction method: Gnomon,\\nsupported by mRNA and EST evidence.\\nAlso see:\\n    Documentation of NCBI's Annotation Process\", 'structured_comment': defaultdict(<class 'dict'>, {'Genome-Annotation-Data': {'Annotation Provider': 'NCBI RefSeq', 'Annotation Status': 'Updated annotation', 'Annotation Name': 'GCF_009914755.1-RS_2024_08', 'Annotation Pipeline': 'NCBI eukaryotic genome annotation pipeline', 'Annotation Software Version': '10.3', 'Annotation Method': 'Best-placed RefSeq; Gnomon; RefSeqFE; cmsearch; tRNAscan-SE', 'Features Annotated': 'Gene; mRNA; CDS; ncRNA', 'Annotation Date': '08/23/2024'}})}\n",
      "Name NC_060939, 99753195bp, annotation : {'molecule_type': 'DNA', 'topology': 'linear', 'data_file_division': 'CON', 'date': '26-AUG-2024', 'accessions': ['NC_060939'], 'sequence_version': 1, 'keywords': ['RefSeq'], 'source': 'Homo sapiens (human)', 'organism': 'Homo sapiens', 'taxonomy': ['Eukaryota', 'Metazoa', 'Chordata', 'Craniata', 'Vertebrata', 'Euteleostomi', 'Mammalia', 'Eutheria', 'Euarchontoglires', 'Primates', 'Haplorrhini', 'Catarrhini', 'Hominidae', 'Homo'], 'comment': 'REFSEQ INFORMATION: The reference sequence is identical to\\nCP068263.2.\\nAssembly name: T2T-CHM13v2.0\\nThe genomic sequence for this RefSeq record is from the\\nwhole-genome assembly released by the T2T Consortium on 2022/01/24.', 'structured_comment': defaultdict(<class 'dict'>, {'Genome-Assembly-Data': {'Assembly Date': '23-APR-2021', 'Assembly Method': 'T2T assembly pipeline + rDNA (see manuscript for details) v. 04/23/2021', 'Assembly Name': 'T2T-CHM13v2.0', 'Genome Representation': 'Full', 'Expected Final Version': 'No', 'Genome Coverage': '30.0x', 'Sequencing Technology': 'PacBio Sequel II HiFi; Oxford Nanopore MinION; Illumina NovaSeq'}, 'Genome-Annotation-Data': {'Annotation Provider': 'NCBI RefSeq', 'Annotation Status': 'Updated annotation', 'Annotation Name': 'GCF_009914755.1-RS_2024_08', 'Annotation Pipeline': 'NCBI eukaryotic genome annotation pipeline', 'Annotation Software Version': '10.3', 'Annotation Method': 'Best-placed RefSeq; Gnomon; RefSeqFE; cmsearch; tRNAscan-SE', 'Features Annotated': 'Gene; mRNA; CDS; ncRNA', 'Annotation Date': '08/23/2024'}}), 'contig': 'join(NW_025804935.1:1..99753195)'}\n",
      "Name NC_000015, 101991189bp, annotation : {'molecule_type': 'DNA', 'topology': 'linear', 'data_file_division': 'CON', 'date': '26-AUG-2024', 'accessions': ['NC_000015'], 'sequence_version': 10, 'keywords': ['RefSeq'], 'source': 'Homo sapiens (human)', 'organism': 'Homo sapiens', 'taxonomy': ['Eukaryota', 'Metazoa', 'Chordata', 'Craniata', 'Vertebrata', 'Euteleostomi', 'Mammalia', 'Eutheria', 'Euarchontoglires', 'Primates', 'Haplorrhini', 'Catarrhini', 'Hominidae', 'Homo'], 'references': [Reference(title='Analysis of the DNA sequence and duplication history of human chromosome 15', ...), Reference(title='Finishing the euchromatic sequence of the human genome', ...), Reference(title='Initial sequencing and analysis of the human genome', ...)], 'comment': 'REFSEQ INFORMATION: The reference sequence is identical to\\nCM000677.2.\\nOn Feb 3, 2014 this sequence version replaced NC_000015.9.\\nAssembly Name: GRCh38.p14 Primary Assembly\\nThe DNA sequence is composed of genomic sequence, primarily\\nfinished clones that were sequenced as part of the Human Genome\\nProject. PCR products and WGS shotgun sequence have been added\\nwhere necessary to fill gaps or correct errors. All such additions\\nare manually curated by GRC staff. For more information see:\\nhttps://genomereference.org.', 'structured_comment': defaultdict(<class 'dict'>, {'Genome-Annotation-Data': {'Annotation Provider': 'NCBI RefSeq', 'Annotation Status': 'Updated annotation', 'Annotation Name': 'GCF_000001405.40-RS_2024_08', 'Annotation Pipeline': 'NCBI eukaryotic genome annotation pipeline', 'Annotation Software Version': '10.3', 'Annotation Method': 'Best-placed RefSeq; Gnomon; RefSeqFE; cmsearch; tRNAscan-SE', 'Features Annotated': 'Gene; mRNA; CDS; ncRNA', 'Annotation Date': '08/23/2024'}}), 'contig': 'join(gap(10000),gap(16990000),NT_187256.1:1..83573,gap(100),NT_187257.1:1..415278,gap(100),NT_187258.1:1..855957,gap(100),NT_187259.1:1..1370146,gap(50000),NT_037852.7:1..2532988,gap(50000),NT_078094.3:1..868632,gap(50000),NT_010194.18:1..78704315,gap(10000))'}\n",
      "Name XM_047432925, 1909bp, annotation : {'molecule_type': 'mRNA', 'topology': 'linear', 'data_file_division': 'PRI', 'date': '25-AUG-2024', 'accessions': ['XM_047432925'], 'sequence_version': 1, 'keywords': ['RefSeq'], 'source': 'Homo sapiens (human)', 'organism': 'Homo sapiens', 'taxonomy': ['Eukaryota', 'Metazoa', 'Chordata', 'Craniata', 'Vertebrata', 'Euteleostomi', 'Mammalia', 'Eutheria', 'Euarchontoglires', 'Primates', 'Haplorrhini', 'Catarrhini', 'Hominidae', 'Homo'], 'comment': \"MODEL REFSEQ:  This record is predicted by automated computational\\nanalysis. This record is derived from a genomic sequence\\n(NC_000015.10) annotated using gene prediction method: Gnomon,\\nsupported by mRNA and EST evidence.\\nAlso see:\\n    Documentation of NCBI's Annotation Process\", 'structured_comment': defaultdict(<class 'dict'>, {'Genome-Annotation-Data': {'Annotation Provider': 'NCBI RefSeq', 'Annotation Status': 'Updated annotation', 'Annotation Name': 'GCF_000001405.40-RS_2024_08', 'Annotation Pipeline': 'NCBI eukaryotic genome annotation pipeline', 'Annotation Software Version': '10.3', 'Annotation Method': 'Best-placed RefSeq; Gnomon; RefSeqFE; cmsearch; tRNAscan-SE', 'Features Annotated': 'Gene; mRNA; CDS; ncRNA', 'Annotation Date': '08/23/2024'}})}\n",
      "Name XM_011521861, 2150bp, annotation : {'molecule_type': 'mRNA', 'topology': 'linear', 'data_file_division': 'PRI', 'date': '25-AUG-2024', 'accessions': ['XM_011521861'], 'sequence_version': 3, 'keywords': ['RefSeq'], 'source': 'Homo sapiens (human)', 'organism': 'Homo sapiens', 'taxonomy': ['Eukaryota', 'Metazoa', 'Chordata', 'Craniata', 'Vertebrata', 'Euteleostomi', 'Mammalia', 'Eutheria', 'Euarchontoglires', 'Primates', 'Haplorrhini', 'Catarrhini', 'Hominidae', 'Homo'], 'comment': \"MODEL REFSEQ:  This record is predicted by automated computational\\nanalysis. This record is derived from a genomic sequence\\n(NC_000015.10) annotated using gene prediction method: Gnomon,\\nsupported by EST evidence.\\nAlso see:\\n    Documentation of NCBI's Annotation Process\\nOn Apr 5, 2022 this sequence version replaced XM_011521861.2.\", 'structured_comment': defaultdict(<class 'dict'>, {'Genome-Annotation-Data': {'Annotation Provider': 'NCBI RefSeq', 'Annotation Status': 'Updated annotation', 'Annotation Name': 'GCF_000001405.40-RS_2024_08', 'Annotation Pipeline': 'NCBI eukaryotic genome annotation pipeline', 'Annotation Software Version': '10.3', 'Annotation Method': 'Best-placed RefSeq; Gnomon; RefSeqFE; cmsearch; tRNAscan-SE', 'Features Annotated': 'Gene; mRNA; CDS; ncRNA', 'Annotation Date': '08/23/2024'}})}\n",
      "Name XM_011521858, 2279bp, annotation : {'molecule_type': 'mRNA', 'topology': 'linear', 'data_file_division': 'PRI', 'date': '25-AUG-2024', 'accessions': ['XM_011521858'], 'sequence_version': 3, 'keywords': ['RefSeq'], 'source': 'Homo sapiens (human)', 'organism': 'Homo sapiens', 'taxonomy': ['Eukaryota', 'Metazoa', 'Chordata', 'Craniata', 'Vertebrata', 'Euteleostomi', 'Mammalia', 'Eutheria', 'Euarchontoglires', 'Primates', 'Haplorrhini', 'Catarrhini', 'Hominidae', 'Homo'], 'comment': \"MODEL REFSEQ:  This record is predicted by automated computational\\nanalysis. This record is derived from a genomic sequence\\n(NC_000015.10) annotated using gene prediction method: Gnomon,\\nsupported by mRNA and EST evidence.\\nAlso see:\\n    Documentation of NCBI's Annotation Process\\nOn Apr 5, 2022 this sequence version replaced XM_011521858.2.\", 'structured_comment': defaultdict(<class 'dict'>, {'Genome-Annotation-Data': {'Annotation Provider': 'NCBI RefSeq', 'Annotation Status': 'Updated annotation', 'Annotation Name': 'GCF_000001405.40-RS_2024_08', 'Annotation Pipeline': 'NCBI eukaryotic genome annotation pipeline', 'Annotation Software Version': '10.3', 'Annotation Method': 'Best-placed RefSeq; Gnomon; RefSeqFE; cmsearch; tRNAscan-SE', 'Features Annotated': 'Gene; mRNA; CDS; ncRNA', 'Annotation Date': '08/23/2024'}})}\n",
      "Name XM_011521859, 2416bp, annotation : {'molecule_type': 'mRNA', 'topology': 'linear', 'data_file_division': 'PRI', 'date': '25-AUG-2024', 'accessions': ['XM_011521859'], 'sequence_version': 3, 'keywords': ['RefSeq'], 'source': 'Homo sapiens (human)', 'organism': 'Homo sapiens', 'taxonomy': ['Eukaryota', 'Metazoa', 'Chordata', 'Craniata', 'Vertebrata', 'Euteleostomi', 'Mammalia', 'Eutheria', 'Euarchontoglires', 'Primates', 'Haplorrhini', 'Catarrhini', 'Hominidae', 'Homo'], 'comment': \"MODEL REFSEQ:  This record is predicted by automated computational\\nanalysis. This record is derived from a genomic sequence\\n(NC_000015.10) annotated using gene prediction method: Gnomon,\\nsupported by mRNA and EST evidence.\\nAlso see:\\n    Documentation of NCBI's Annotation Process\\nOn Apr 5, 2022 this sequence version replaced XM_011521859.2.\", 'structured_comment': defaultdict(<class 'dict'>, {'Genome-Annotation-Data': {'Annotation Provider': 'NCBI RefSeq', 'Annotation Status': 'Updated annotation', 'Annotation Name': 'GCF_000001405.40-RS_2024_08', 'Annotation Pipeline': 'NCBI eukaryotic genome annotation pipeline', 'Annotation Software Version': '10.3', 'Annotation Method': 'Best-placed RefSeq; Gnomon; RefSeqFE; cmsearch; tRNAscan-SE', 'Features Annotated': 'Gene; mRNA; CDS; ncRNA', 'Annotation Date': '08/23/2024'}})}\n",
      "Name XM_011521860, 2332bp, annotation : {'molecule_type': 'mRNA', 'topology': 'linear', 'data_file_division': 'PRI', 'date': '25-AUG-2024', 'accessions': ['XM_011521860'], 'sequence_version': 3, 'keywords': ['RefSeq'], 'source': 'Homo sapiens (human)', 'organism': 'Homo sapiens', 'taxonomy': ['Eukaryota', 'Metazoa', 'Chordata', 'Craniata', 'Vertebrata', 'Euteleostomi', 'Mammalia', 'Eutheria', 'Euarchontoglires', 'Primates', 'Haplorrhini', 'Catarrhini', 'Hominidae', 'Homo'], 'comment': \"MODEL REFSEQ:  This record is predicted by automated computational\\nanalysis. This record is derived from a genomic sequence\\n(NC_000015.10) annotated using gene prediction method: Gnomon,\\nsupported by mRNA and EST evidence.\\nAlso see:\\n    Documentation of NCBI's Annotation Process\\nOn Apr 5, 2022 this sequence version replaced XM_011521860.2.\", 'structured_comment': defaultdict(<class 'dict'>, {'Genome-Annotation-Data': {'Annotation Provider': 'NCBI RefSeq', 'Annotation Status': 'Updated annotation', 'Annotation Name': 'GCF_000001405.40-RS_2024_08', 'Annotation Pipeline': 'NCBI eukaryotic genome annotation pipeline', 'Annotation Software Version': '10.3', 'Annotation Method': 'Best-placed RefSeq; Gnomon; RefSeqFE; cmsearch; tRNAscan-SE', 'Features Annotated': 'Gene; mRNA; CDS; ncRNA', 'Annotation Date': '08/23/2024'}})}\n",
      "Name XM_011521857, 2272bp, annotation : {'molecule_type': 'mRNA', 'topology': 'linear', 'data_file_division': 'PRI', 'date': '25-AUG-2024', 'accessions': ['XM_011521857'], 'sequence_version': 3, 'keywords': ['RefSeq'], 'source': 'Homo sapiens (human)', 'organism': 'Homo sapiens', 'taxonomy': ['Eukaryota', 'Metazoa', 'Chordata', 'Craniata', 'Vertebrata', 'Euteleostomi', 'Mammalia', 'Eutheria', 'Euarchontoglires', 'Primates', 'Haplorrhini', 'Catarrhini', 'Hominidae', 'Homo'], 'comment': \"MODEL REFSEQ:  This record is predicted by automated computational\\nanalysis. This record is derived from a genomic sequence\\n(NC_000015.10) annotated using gene prediction method: Gnomon,\\nsupported by mRNA and EST evidence.\\nAlso see:\\n    Documentation of NCBI's Annotation Process\\nOn Apr 5, 2022 this sequence version replaced XM_011521857.2.\", 'structured_comment': defaultdict(<class 'dict'>, {'Genome-Annotation-Data': {'Annotation Provider': 'NCBI RefSeq', 'Annotation Status': 'Updated annotation', 'Annotation Name': 'GCF_000001405.40-RS_2024_08', 'Annotation Pipeline': 'NCBI eukaryotic genome annotation pipeline', 'Annotation Software Version': '10.3', 'Annotation Method': 'Best-placed RefSeq; Gnomon; RefSeqFE; cmsearch; tRNAscan-SE', 'Features Annotated': 'Gene; mRNA; CDS; ncRNA', 'Annotation Date': '08/23/2024'}})}\n",
      "Name AY608888, 128bp, annotation : {'molecule_type': 'mRNA', 'topology': 'linear', 'data_file_division': 'PRI', 'date': '26-JUL-2016', 'accessions': ['AY608888'], 'sequence_version': 1, 'keywords': [''], 'source': 'Homo sapiens (human)', 'organism': 'Homo sapiens', 'taxonomy': ['Eukaryota', 'Metazoa', 'Chordata', 'Craniata', 'Vertebrata', 'Euteleostomi', 'Mammalia', 'Eutheria', 'Euarchontoglires', 'Primates', 'Haplorrhini', 'Catarrhini', 'Hominidae', 'Homo'], 'references': [Reference(title='Alternative splicing in the testes', ...), Reference(title='Direct Submission', ...)]}\n",
      "Name CM000266, 78891133bp, annotation : {'molecule_type': 'DNA', 'topology': 'linear', 'data_file_division': 'CON', 'date': '23-MAR-2015', 'accessions': ['CM000266', 'AADB02000000', 'CH003486'], 'sequence_version': 1, 'keywords': ['WGS'], 'source': 'Homo sapiens (human)', 'organism': 'Homo sapiens', 'taxonomy': ['Eukaryota', 'Metazoa', 'Chordata', 'Craniata', 'Vertebrata', 'Euteleostomi', 'Mammalia', 'Eutheria', 'Euarchontoglires', 'Primates', 'Haplorrhini', 'Catarrhini', 'Hominidae', 'Homo'], 'references': [Reference(title='The sequence of the human genome', ...), Reference(title='Direct Submission', ...), Reference(title='Direct Submission', ...)], 'comment': \"On Sep 8, 2005 this sequence version replaced CH003486.1.\\nThis is the November 2001 combined whole genome shotgun assembly\\napplied to the 27 million reads of Celera's whole genome shotgun\\ndata and 16 million  reads of shredded GenBank data from other\\nhuman genome projects (Nature 2001. 409:860-921). It relied on\\nCelera's paired reads and BAC end reads from TIGR for long range\\norder and orientation. Its scaffolds were mapped to chromosomes\\nusing STS maps. For more detailed information about whole genome\\nsequencing and Celera's assembly process, please refer to Venter,\\nJ.C. et al. Science 2001. 291:1304-1351.\", 'contig': 'join(CH878680.1:1..23573,gap(55678),CH878371.1:1..19926,gap(55678),CH878681.1:1..29707,gap(55678),CH878499.1:1..16859,gap(55678),CH878514.1:1..1375,gap(55678),CH471272.1:1..214930,gap(55678),CH878677.1:1..15168,gap(55678),CH878568.1:1..1201,gap(55678),CH878486.1:1..1226,gap(55678),CH878382.1:1..2624,gap(55678),CH878274.1:1..8374,gap(55678),CH878605.1:1..13125,gap(55678),CH878283.1:1..6392,gap(55678),CH878374.1:1..4240,gap(55678),CH471324.1:1..23645,gap(55678),CH878682.1:1..8333,gap(55678),CH471258.1:1..351731,gap(55678),CH878727.1:1..34406,gap(55678),CH471151.1:1..4942749,gap(55678),CH471205.2:1..1241579,gap(55678),CH878373.1:1..29257,gap(55678),CH471255.1:1..436686,gap(55678),CH471216.1:1..1009531,gap(55678),CH471125.1:1..10907654,gap(55678),CH471308.1:1..42577,gap(55678),CH878269.1:1..5623,gap(55678),complement(CH878442.1:1..6386),gap(55678),CH471082.1:1..30328800,gap(55678),CH878520.1:1..1100,gap(55678),CH471136.2:1..8306772,gap(55678),CH471188.1:1..1679673,gap(55678),CH878430.1:1..10262,gap(55678),CH471101.1:1..17317633,gap(55678),CH878644.1:1..10642)'}\n",
      "Name CH471125, 10907654bp, annotation : {'molecule_type': 'DNA', 'topology': 'linear', 'data_file_division': 'CON', 'date': '23-MAR-2015', 'accessions': ['CH471125', 'AADB02000000'], 'sequence_version': 1, 'keywords': ['WGS'], 'source': 'Homo sapiens (human)', 'organism': 'Homo sapiens', 'taxonomy': ['Eukaryota', 'Metazoa', 'Chordata', 'Craniata', 'Vertebrata', 'Euteleostomi', 'Mammalia', 'Eutheria', 'Euarchontoglires', 'Primates', 'Haplorrhini', 'Catarrhini', 'Hominidae', 'Homo'], 'references': [Reference(title='The sequence of the human genome', ...), Reference(title='Direct Submission', ...)], 'comment': \"This version of genes, transcripts, and proteins was created in\\nApril 2002 from the whole-genome mapping of transcript and protein\\nsequences on the Celera human genome assembly\\n(http://www.ncbi.nlm.nih.gov/genome/guide/human/release_notes.html)\\nby Celera Chromosome Team, Content Systems and Informatics\\nResearch. The data sets used by this annotation process were\\ncollected in 2001 and include RefSeq (NM_) sequences, manually\\nannotated transcripts from previous Celera assemblies, GenBank mRNA\\nand dbEST sequences, Celera internal EST and full-insert sequences\\nof cDNA clones (unpublished), mammalian SwissProt sequences, NRAA\\nsequences, and International Protein Index (IPI) sequences (all\\nhuman unless noted otherwise).  The CDS of each transcript was\\ncomputationally defined by either the longest ATG-to-Stop or the\\nlongest open reading frame. All CDSs corresponding to the longest\\nopen reading frames with no starting ATG were flagged as partial.\\nIn addition, some of the genes were manually curated between 2002\\nand 2005. Coverage analysis of splice junction donor/acceptor pairs\\nand single-exon transcripts was done by Applied Biosystems in\\nAugust 2006, based on Dec 2005 versions of human cDNA (RefSeq,\\nGenbank mRNA and dbEST, Celera internal EST and full insert\\nsequences) and human SwissProt sequences.\\nThis is the November 2001 combined whole genome shotgun assembly\\napplied to the 27 million reads of Celera's whole genome shotgun\\ndata and 16 million  reads of shredded GenBank data from other\\nhuman genome projects (Nature 2001. 409:860-921). It relied on\\nCelera's paired reads and BAC end reads from TIGR for long range\\norder and orientation. Its scaffolds were mapped to chromosomes\\nusing STS maps. For more detailed information about whole genome\\nsequencing and Celera's assembly process, please refer to Venter,\\nJ.C. et al. Science 2001. 291:1304-1351.\", 'contig': 'join(AADB02016366.1:1..27412,gap(194),AADB02016367.1:1..589961,gap(20),AADB02016368.1:1..29249,gap(20),AADB02016369.1:1..52552,gap(238),AADB02016370.1:1..51255,gap(68),AADB02016371.1:1..231550,gap(148),complement(AADB02016372.1:1..5156),gap(101),AADB02016373.1:1..459245,gap(2826),AADB02016374.1:1..31852,gap(176),AADB02016375.1:1..70494,gap(20),AADB02016376.1:1..46286,gap(20),complement(AADB02016377.1:1..64485),gap(20),AADB02016378.1:1..60981,gap(1099),AADB02016379.1:1..40279,gap(20),AADB02016380.1:1..145390,gap(20),AADB02016381.1:1..1079009,gap(1590),AADB02016382.1:1..858581,gap(442),AADB02016383.1:1..804281,gap(20),AADB02016384.1:1..160297,gap(1266),AADB02016385.1:1..83359,gap(183),AADB02016386.1:1..12314,gap(28),AADB02016387.1:1..69307,gap(20),complement(AADB02016388.1:1..1204),gap(65),AADB02016389.1:1..18435,gap(454),complement(AADB02016390.1:1..105632),gap(20),complement(AADB02016391.1:1..413259),gap(20),complement(AADB02016392.1:1..66697),gap(20),AADB02016393.1:1..122584,gap(20),complement(AADB02016394.1:1..1165),gap(194),AADB02016395.1:1..3459,gap(20),AADB02016396.1:1..29256,gap(2403),AADB02016397.1:1..10645,gap(20),AADB02016398.1:1..10763,gap(153),AADB02016399.1:1..4081,gap(129),AADB02016400.1:1..5432,gap(386),AADB02016401.1:1..39486,gap(66),AADB02016402.1:1..7921,gap(802),complement(AADB02016403.1:1..6708),gap(44),AADB02016404.1:1..6910,gap(20),AADB02016405.1:1..8836,gap(20),AADB02016406.1:1..23293,gap(20),AADB02016407.1:1..12193,gap(287),AADB02016408.1:1..21101,gap(251),AADB02016409.1:1..52519,gap(210),complement(AADB02016410.1:1..333498),gap(20),AADB02016411.1:1..151322,gap(7910),AADB02016412.1:1..257140,gap(20),complement(AADB02016413.1:1..36864),gap(166),AADB02016414.1:1..5391,gap(20),AADB02016415.1:1..7903,gap(5873),complement(AADB02016416.1:1..1642),gap(42),complement(AADB02016417.1:1..22624),gap(20),AADB02016418.1:1..599474,gap(2758),AADB02016419.1:1..9413,gap(1260),AADB02016420.1:1..2676748,gap(2373),complement(AADB02016421.1:1..150671),gap(3152),AADB02016422.1:1..467487,gap(412),AADB02016423.1:1..204414)'}\n",
      "Name BC001459, 1417bp, annotation : {'molecule_type': 'mRNA', 'topology': 'linear', 'data_file_division': 'PRI', 'date': '15-JUL-2006', 'accessions': ['BC001459'], 'sequence_version': 2, 'keywords': ['MGC'], 'source': 'Homo sapiens (human)', 'organism': 'Homo sapiens', 'taxonomy': ['Eukaryota', 'Metazoa', 'Chordata', 'Craniata', 'Vertebrata', 'Euteleostomi', 'Mammalia', 'Eutheria', 'Euarchontoglires', 'Primates', 'Haplorrhini', 'Catarrhini', 'Hominidae', 'Homo'], 'references': [Reference(title='Generation and initial analysis of more than 15,000 full-length human and mouse cDNA sequences', ...), Reference(title='Direct Submission', ...)], 'comment': 'On Aug 19, 2003 this sequence version replaced BC001459.1.\\nContact: MGC help desk\\nEmail: cgapbs-r@mail.nih.gov\\nTissue Procurement: ATCC\\ncDNA Library Preparation: Rubin Laboratory\\ncDNA Library Arrayed by: The I.M.A.G.E. Consortium (LLNL)\\nDNA Sequencing by: National Institutes of Health Intramural\\nSequencing Center (NISC),\\nGaithersburg, Maryland;\\nWeb site: http://www.nisc.nih.gov/\\nContact: nisc_mgc@nhgri.nih.gov\\nAkhter,N., Ayele,K., Beckstrom-Sternberg,S.M., Benjamin,B.,\\nBlakesley,R.W., Bouffard,G.G., Breen,K., Brinkley,C., Brooks,S.,\\nDietrich,N.L., Granite,S., Guan,X., Gupta,J., Haghighi,P.,\\nHansen,N., Ho,S.-L., Karlins,E., Kwong,P., Laric,P., Legaspi,R.,\\nMaduro,Q.L., Masiello,C., Maskeri,B., Mastrian,S.D.,McCloskey,J.C.,\\nMcDowell,J., Pearson,R., Stantripop,S., Thomas,P.J., Touchman,J.W.,\\nTsurgeon,C., Vogt,J.L., Walker,M.A., Wetherby,K.D., Wiggins,L.,\\nYoung,A., Zhang,L.-H. and Green,E.D.\\nClone distribution: MGC clone distribution information can be found\\nthrough the I.M.A.G.E. Consortium/LLNL at: http://image.llnl.gov\\nSeries: IRAL Plate: 4 Row: h Column: 19\\nThis clone was selected for full length sequencing because it\\npassed the following selection criteria: matched mRNA gi: 19924132.'}\n",
      "Name DQ044326, 210bp, annotation : {'molecule_type': 'DNA', 'topology': 'linear', 'data_file_division': 'GSS', 'date': '02-JUN-2005', 'accessions': ['DQ044326'], 'sequence_version': 1, 'keywords': ['GSS'], 'source': 'Homo sapiens (human)', 'organism': 'Homo sapiens', 'taxonomy': ['Eukaryota', 'Metazoa', 'Chordata', 'Craniata', 'Vertebrata', 'Euteleostomi', 'Mammalia', 'Eutheria', 'Euarchontoglires', 'Primates', 'Haplorrhini', 'Catarrhini', 'Hominidae', 'Homo'], 'references': [Reference(title='A scan for positively selected genes in the genomes of humans and chimpanzees', ...), Reference(title='Direct Submission', ...)], 'comment': 'This sequence was made by sequencing genomic exons and ordering\\nthem based on alignment.  Translation starts at the beginning of\\nalignment.'}\n",
      "Name AY196785, 39521bp, annotation : {'molecule_type': 'DNA', 'topology': 'linear', 'data_file_division': 'PRI', 'date': '23-DEC-2002', 'accessions': ['AY196785'], 'sequence_version': 1, 'keywords': [''], 'source': 'Homo sapiens (human)', 'organism': 'Homo sapiens', 'taxonomy': ['Eukaryota', 'Metazoa', 'Chordata', 'Craniata', 'Vertebrata', 'Euteleostomi', 'Mammalia', 'Eutheria', 'Euarchontoglires', 'Primates', 'Haplorrhini', 'Catarrhini', 'Hominidae', 'Homo'], 'references': [Reference(title='Direct Submission', ...)], 'comment': 'To cite this work please use:  NIEHS-SNPs, Environmental Genome\\nProject, NIEHS ES15478, Department of Genome Sciences, Seattle, WA\\n(URL: http://egp.gs.washington.edu).'}\n",
      "Name AB528640, 1034bp, annotation : {'molecule_type': 'DNA', 'topology': 'linear', 'data_file_division': 'SYN', 'date': '24-JUL-2016', 'accessions': ['AB528640'], 'sequence_version': 1, 'keywords': ['Flexi cloning system', 'full-length ORF without stop codon'], 'source': 'synthetic construct', 'organism': 'synthetic construct', 'taxonomy': ['other sequences', 'artificial sequences'], 'references': [Reference(title='Exploration of human ORFeome: high-throughput preparation of ORF clones and efficient characterization of their protein products', ...), Reference(title='Direct Submission', ...)], 'comment': 'This clone is part of the Kazusa ORFeome Project. The ORF sequence\\nwas amplified by PCR using a cDNA as a template and the entire\\nsequence was validated after Flexi cloning. Please visit our\\nwebsite. URL: http://www.kazusa.or.jp/kop.'}\n",
      "Name CR536559, 1020bp, annotation : {'molecule_type': 'mRNA', 'topology': 'linear', 'data_file_division': 'PRI', 'date': '16-OCT-2008', 'accessions': ['CR536559'], 'sequence_version': 1, 'keywords': ['Full ORF shuttle clone, Gateway(TM), complete cds'], 'source': 'Homo sapiens (human)', 'organism': 'Homo sapiens', 'taxonomy': ['Eukaryota', 'Metazoa', 'Chordata', 'Craniata', 'Vertebrata', 'Euteleostomi', 'Mammalia', 'Eutheria', 'Euarchontoglires', 'Primates', 'Haplorrhini', 'Catarrhini', 'Hominidae', 'Homo'], 'references': [Reference(title='Cloning of human full open reading frames in Gateway(TM) system entry vector (pDONR201)', ...), Reference(title='Direct Submission', ...)], 'comment': \"RZPD; RZPDo834H1120D, ORFNo 3165\\nwww.rzpd.de/cgi-bin/products/cl.cgi?CloneID=RZPDo834H1120D RZPDLIB;\\nHuman Full ORF Clones Gateway(TM) - RZPD (kan-resist.) RZPD LIB No.\\n834\\nwww.rzpd.de/cgi-bin/products/showLib.pl.cgi/response?libNo=834\\nwww.rzpd.de/products/orfclones/\\nContact: Inge Arlart\\nRZPD Deutsches Ressourcenzentrum fuer Genomforschung GmbH,\\nHeubnerweg 6, D-14059 Berlin, Germany\\nTel: +49 30 32639 100\\nFax: +49 30 32639 111\\nwww.rzpd.de\\nThis clone is available from RZPD;\\ncontact RZPD (customer.service@rzpd.de) for further information.\\nThis CDS clone is a part of a collection of human full ORF clones\\njointly established and verified by the Harvard Institute of\\nProteomics and RZPD.\\nThis CDS has been cloned incl. stopcodon.\\nThe CDS has been inserted into pDONR201 via a BP Clonase(TM)\\nreaction. Additional sequence has been added in front of the start\\ncodon: att..AAAAAA GCA GGC TCC ACC (ATG).\\nThe stopcodon is followed by the 3' att site:\\n(stop)GACCCAGCTTTCTT..att Compared to the reference sequence\\nNM_002875 (gi19924132) we did not find any amino acid exchanges.\\nClone distribution: http://www.rzpd.de/products/orfclones/\"}\n",
      "Name HUMRAD51, 2229bp, annotation : {'molecule_type': 'mRNA', 'topology': 'linear', 'data_file_division': 'PRI', 'date': '08-OCT-2008', 'accessions': ['D14134'], 'sequence_version': 1, 'keywords': [''], 'source': 'Homo sapiens (human)', 'organism': 'Homo sapiens', 'taxonomy': ['Eukaryota', 'Metazoa', 'Chordata', 'Craniata', 'Vertebrata', 'Euteleostomi', 'Mammalia', 'Eutheria', 'Euarchontoglires', 'Primates', 'Haplorrhini', 'Catarrhini', 'Hominidae', 'Homo'], 'references': [Reference(title='Cloning and sequence of the human RecA-like gene cDNA', ...), Reference(title='Direct Submission', ...)]}\n"
     ]
    }
   ],
   "source": [
    "from Bio import Entrez, SeqIO\n",
    "Entrez.email = \"Chevreau.julien21@gmail.com@univ-rouen.fr\"\n",
    "\n",
    "input = \"\"\n",
    "\n",
    "db=\"protein\"\n",
    "term = \"homo_sapiens[Orgn] AND RAD51[gene]\"\n",
    "\n",
    "handle = Entrez.esearch(db=db, term=term, retmax=100)\n",
    "records = Entrez.read(handle)\n",
    "\n",
    "identifiers = records[\"IdList\"]\n",
    "print(identifiers)\n",
    "handle = Entrez.efetch(db=db, id=identifiers, retmax=\"100\",\n",
    "rettype=\"gbk\", retmode=\"text\")\n",
    "text = handle.read()\n",
    "\n",
    "\n",
    "with open(\"RAD51_prot.gbk\",\"w\") as gbk:\n",
    "    gbk.write(text)\n",
    "\n",
    "for seq_record in SeqIO.parse(\"RAD51.gbk\", \"genbank\"):\n",
    "        print(\"Name %s, %ibp, annotation : %s\"\n",
    "            % (seq_record.name, len(seq_record), seq_record.annotations))\n"
   ]
  },
  {
   "cell_type": "markdown",
   "metadata": {},
   "source": [
    "## Prot et transcrits traduits \n",
    "Aller chercher dans la base **prot** pour avoir les différents IDs des prots et transcrits associés"
   ]
  },
  {
   "cell_type": "code",
   "execution_count": 25,
   "metadata": {},
   "outputs": [
    {
     "name": "stdout",
     "output_type": "stream",
     "text": [
      "NP_001157742.1\n",
      "NP_001157741.1\n",
      "NP_597994.3\n",
      "NP_002866.2\n",
      "XP_054234546.1\n",
      "XP_054234545.1\n",
      "XP_054234544.1\n",
      "XP_054234543.1\n",
      "XP_054234542.1\n",
      "XP_054234541.1\n",
      "XP_047288881.1\n",
      "XP_011520163.2\n",
      "XP_011520159.2\n",
      "XP_011520162.1\n",
      "XP_011520161.1\n",
      "XP_011520160.1\n"
     ]
    }
   ],
   "source": [
    "for seq_record in SeqIO.parse(\"RAD51_prot.gbk\", \"genbank\"):\n",
    "    if seq_record.annotations[\"db_source\"][:6] == \"REFSEQ\" :\n",
    "        print(seq_record.id)\n",
    "        print(seq_record.annotations[\"db_source\"].split(\" \")[-1])"
   ]
  },
  {
   "cell_type": "markdown",
   "metadata": {},
   "source": [
    "## Transcrits non traduits\n",
    "Aller dans **nucleotide** pour les transcrits non traduits"
   ]
  },
  {
   "cell_type": "code",
   "execution_count": null,
   "metadata": {},
   "outputs": [],
   "source": [
    "for seq_record in SeqIO.parse(\"RAD51.gbk\", \"genbank\"):\n",
    "    if seq_record.annotations[\"db_source\"][:6] == \"REFSEQ\" :\n",
    "        print(seq_record.id)\n",
    "        print(seq_record.annotations[\"db_source\"].split(\" \")[-1])"
   ]
  },
  {
   "cell_type": "markdown",
   "metadata": {},
   "source": [
    "## Gène\n",
    "Aller dans **gene** pour l'official full name et le gene access number"
   ]
  },
  {
   "cell_type": "code",
   "execution_count": 25,
   "metadata": {},
   "outputs": [
    {
     "name": "stdout",
     "output_type": "stream",
     "text": [
      "Name PQ523384, 252930bp\n",
      "Name PQ165104, 289334bp\n",
      "Name PP663685, 262916bp\n",
      "Name PP663684, 263010bp\n",
      "Name PP916044, 251922bp\n",
      "Name PP579759, 219776bp\n",
      "Name PP780168, 219775bp\n",
      "Name NC_088489, 287626bp\n",
      "Name OM867576, 239184bp\n",
      "Name OM867577, 258440bp\n",
      "Name PP556433, 287626bp\n",
      "Name PP231953, 219775bp\n",
      "Name NC_085821, 265457bp\n",
      "Name NC_085700, 288122bp\n",
      "Name NC_085699, 287054bp\n",
      "Name NC_085616, 196604bp\n",
      "Name PP035758, 219774bp\n",
      "Name OQ916154, 265457bp\n",
      "Name ON244455, 359596bp\n",
      "Name ON244454, 219771bp\n",
      "Name BK063798, 288122bp\n",
      "Name BK063239, 287054bp\n",
      "Name OQ701529, 196604bp\n",
      "Name NC_081483, 334431bp\n",
      "Name OQ852786, 334431bp\n",
      "Name NC_016120, 232241bp\n",
      "Name NC_042143, 271601bp\n",
      "Name NC_049892, 219736bp\n",
      "Name NC_042883, 287405bp\n",
      "Name NC_037304, 367808bp\n",
      "Name NC_037070, 323159bp\n",
      "Name NC_031896, 240024bp\n",
      "Name NC_029182, 232407bp\n",
      "Name NC_018551, 258426bp\n",
      "Name NC_016123, 219766bp\n",
      "Name NC_016125, 219747bp\n",
      "Name NC_016118, 360271bp\n",
      "Name NC_008285, 221853bp\n",
      "Name OP729396, 219779bp\n",
      "Name ON758780, 175791bp\n",
      "Name ON758779, 65849bp\n",
      "Name ON758774, 219969bp\n",
      "Name MZ540940, 223420bp\n",
      "Name MZ540939, 221854bp\n",
      "Name MZ540938, 289699bp\n",
      "Name MZ540937, 221867bp\n",
      "Name MZ540936, 223412bp\n",
      "Name MZ540935, 223383bp\n",
      "Name MZ540934, 221840bp\n",
      "Name MZ540933, 221841bp\n",
      "Name MZ540932, 221840bp\n",
      "Name MZ540931, 325974bp\n",
      "Name OL351256, 219964bp\n",
      "Name CP096029, 366924bp\n",
      "Name MZ671992, 219775bp\n",
      "Name MZ671991, 219775bp\n",
      "Name MZ671990, 219806bp\n",
      "Name MW900252, 219964bp\n",
      "Name MW348924, 222015bp\n",
      "Name MW001149, 221864bp\n",
      "Name MT675104, 258462bp\n",
      "Name MT675103, 219776bp\n",
      "Name MT409179, 219736bp\n",
      "Name MN746809, 287799bp\n",
      "Name MN056359, 239725bp\n",
      "Name MN056360, 239195bp\n",
      "Name MH624151, 287405bp\n",
      "Name MH545496, 271601bp\n",
      "Name BK010421, 367808bp\n",
      "Name MG872829, 256592bp\n",
      "Name MG872828, 240079bp\n",
      "Name MG872827, 221943bp\n",
      "Name MG872826, 239992bp\n",
      "Name MG872825, 225658bp\n",
      "Name MG171191, 323159bp\n",
      "Name KU831325, 219975bp\n",
      "Name KM851044, 240024bp\n",
      "Name JF729202, 345418bp\n",
      "Name JF729201, 366750bp\n",
      "Name JF729200, 366922bp\n",
      "Name JF920287, 232241bp\n",
      "Name JF920285, 219747bp\n",
      "Name KT988071, 255773bp\n",
      "Name KP030753, 232407bp\n",
      "Name KP161618, 221867bp\n",
      "Name KM454975, 223412bp\n",
      "Name KM454974, 223412bp\n",
      "Name KF442616, 247696bp\n",
      "Name KJ716484, 244054bp\n",
      "Name KJ820683, 219962bp\n",
      "Name KJ461445, 219919bp\n",
      "Name KC193578, 239186bp\n",
      "Name JQ083668, 239723bp\n"
     ]
    }
   ],
   "source": [
    "from Bio import SeqIO\n",
    "gb_file = \"all_from_eu.gbk\"\n",
    "for seq_record in SeqIO.parse(gb_file, \"genbank\"):\n",
    "    print(\"Name %s, %ibp\"\n",
    "          % (seq_record.name, len(seq_record)))\n",
    "    #print(repr(seq_record.seq))\n"
   ]
  },
  {
   "cell_type": "code",
   "execution_count": 26,
   "metadata": {},
   "outputs": [
    {
     "data": {
      "text/plain": [
       "93"
      ]
     },
     "execution_count": 26,
     "metadata": {},
     "output_type": "execute_result"
    }
   ],
   "source": [
    "from Bio import SeqIO\n",
    "SeqIO.convert(\"all_from_eu.gbk\",'genbank',\"all_from_eu.fasta\",\"fasta\")"
   ]
  },
  {
   "cell_type": "code",
   "execution_count": 53,
   "metadata": {},
   "outputs": [
    {
     "name": "stdout",
     "output_type": "stream",
     "text": [
      "{'source': 1, 'gene': 131, 'CDS': 117, 'regulatory': 14, 'rRNA': 3, 'exon': 32, 'misc_feature': 455, 'intron': 21, 'tRNA': 21, 'repeat_region': 6, 'STS': 1}\n",
      "{'nad2': 1, 'rrn26': 1, 'nad5': 1, 'nad9': 1, 'rpl16': 1, 'rps3': 1, 'tRNA-Lys': 1, 'ccb206': 1, 'cox2': 1, 'ccb452': 1, 'tRNA-Gly': 1, 'rpl5': 1, 'cob': 1, 'tRNA-Ser': 1, 'tRNA-fMet': 1, 'nad6': 1, 'rps4': 1, 'tRNA-Tyr': 1, 'tRNA-Pro': 1, 'tRNA-Cys': 1, 'tRNA-Asn': 1, 'atp6-1': 1, 'tRNA-Ile': 1, 'orfB': 1, 'nad7': 1, 'nad1': 1, 'matR': 1, 'rpl2': 1, 'orfX': 1, 'nad4': 1, 'orf25': 1, 'nad4L': 1, 'cox3': 1, 'tRNA-Glu': 1, 'ccb382': 1, 'ccb256': 1, 'tRNA-Trp': 1, 'tRNA-Gln': 1, 'ccb203': 1, 'rps12': 1, 'tRNA-Asp': 1, 'atp9': 1, 'atp6-2': 1, 'atp1': 1, 'rps7': 1, 'tRNA-met': 1, 'cox1': 1, 'rrn5': 1, 'rrn18': 1}\n"
     ]
    }
   ],
   "source": [
    "from Bio import SeqIO\n",
    "gb_file = \"f1.gbk\"\n",
    "features = {}\n",
    "genes = {}\n",
    "for seq_record in SeqIO.parse(gb_file, \"genbank\"):\n",
    "    for feat in seq_record.features :\n",
    "        if feat.type in features :\n",
    "            features[feat.type]+=1\n",
    "        else : \n",
    "            features[feat.type] = 1\n",
    "        if \"gene\" in feat.qualifiers:\n",
    "            for gene in feat.qualifiers[\"gene\"]:\n",
    "                genes[gene] = 1\n",
    "                \n",
    "print(features)\n",
    "print(genes)"
   ]
  },
  {
   "cell_type": "markdown",
   "metadata": {},
   "source": [
    "## Info à récupérer  \n",
    "- Gene symbol\n",
    "- Official full name\n",
    "- Gene access number \n",
    "- RNA access number"
   ]
  }
 ],
 "metadata": {
  "kernelspec": {
   "display_name": "Python 3",
   "language": "python",
   "name": "python3"
  },
  "language_info": {
   "codemirror_mode": {
    "name": "ipython",
    "version": 3
   },
   "file_extension": ".py",
   "mimetype": "text/x-python",
   "name": "python",
   "nbconvert_exporter": "python",
   "pygments_lexer": "ipython3",
   "version": "3.12.8"
  }
 },
 "nbformat": 4,
 "nbformat_minor": 2
}
